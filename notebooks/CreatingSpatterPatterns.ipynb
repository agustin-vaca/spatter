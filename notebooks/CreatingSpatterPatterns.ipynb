{
 "cells": [
  {
   "cell_type": "markdown",
   "id": "6f523f0c",
   "metadata": {},
   "source": [
    "# Spatter Benchmark Worflow"
   ]
  },
  {
   "cell_type": "markdown",
   "id": "d9c24265",
   "metadata": {},
   "source": [
    "This notebook will guide you through the process of performing memory performance analysis using the Spatter benchmark. For more detail please refer to our [wiki](https://github.com/hpcgarage/spatter/wiki/Spatter-Benchmark-Workflow). As an example, we will use [Quicksilver](https://github.com/LLNL/Quicksilver) with the [All Absorb](https://github.com/LLNL/Quicksilver/blob/master/Examples/AllAbsorb/allAbsorb.inp) input."
   ]
  },
  {
   "cell_type": "markdown",
   "id": "858db2c9",
   "metadata": {},
   "source": [
    "### Installations\n",
    "\n",
    "1) Install [Quicksilver](https://github.com/LLNL/Quicksilver)\n",
    "    1) Build with OpenMP and debug symbols ON\n",
    "2) Install [VTune](https://www.intel.com/content/www/us/en/developer/tools/oneapi/vtune-profiler-download.html)\n",
    "3) Install [gs_patterns](https://github.com/lanl/gs_patterns)\n",
    "    1) Make sure to also install [PIN](https://www.intel.com/content/www/us/en/developer/articles/tool/pin-a-dynamic-binary-instrumentation-tool.html) following the steps in the [pin_tracing](https://github.com/lanl/gs_patterns/tree/main/pin_tracing) folder"
   ]
  },
  {
   "cell_type": "code",
   "execution_count": null,
   "id": "67d9630d",
   "metadata": {},
   "outputs": [],
   "source": [
    "export qs_dir=\"/nethome/jvalverde6/Quicksilver\"\n",
    "export notebook_dir=\"$(pwd)\"\n",
    "export gspatterns_dir=\"/nethome/jvalverde6/gs_patterns\"\n",
    "export pin_dir=\"/nethome/jvalverde6/gs_patterns/pin_dir\""
   ]
  },
  {
   "cell_type": "markdown",
   "id": "1f058f42",
   "metadata": {},
   "source": [
    "### Identifying Hotspots"
   ]
  },
  {
   "cell_type": "markdown",
   "id": "cf2eea5e",
   "metadata": {},
   "source": [
    "In order to identify memory hot spots, we will need to profile an execution of the application."
   ]
  },
  {
   "cell_type": "code",
   "execution_count": null,
   "id": "8edb725e",
   "metadata": {},
   "outputs": [],
   "source": [
    "module load vtune\n",
    "vtune -collect hotspots \"$qs_dir\"/src/qs \"$qs_dir\"/Examples/AllAbsorb/allAbsorb.inp"
   ]
  },
  {
   "cell_type": "markdown",
   "id": "a97d28d6",
   "metadata": {},
   "source": [
    "Hotspot functions will be towards the end of the output, under **Top Hotspots**. \n",
    "\n",
    "Vtune might output some hotspot functions that look like:\n",
    "\n",
    "1) func@0x1de24  \n",
    "2) func@0x1dfd4\n",
    "\n",
    "These are functions from an external library which are not traceable, therefore we will not focus on them. \n",
    "\n",
    "Functions that are traceable will usually have a friendlier name. We will trace the function **CycleTrackingFunction**."
   ]
  },
  {
   "cell_type": "markdown",
   "id": "0975ae17",
   "metadata": {},
   "source": [
    "Start by creating a file called **roi_funcs.txt**. This file should be located in the same directory where you call gs_patterns, and will contain the names of the functions you want to trace in your application, each on a separate line. \n",
    "\n",
    "You will find a **roi_funcs.txt** file already containing **CycleTrackingFunction** in the directory containing this notebook."
   ]
  },
  {
   "cell_type": "markdown",
   "id": "3d0508f4",
   "metadata": {},
   "source": [
    "## Generating Traces"
   ]
  },
  {
   "cell_type": "markdown",
   "id": "f2068483",
   "metadata": {},
   "source": [
    "### Running Pin"
   ]
  },
  {
   "cell_type": "markdown",
   "id": "117a3efa",
   "metadata": {},
   "source": [
    "Be advised running Pin might take a significant amount of time depending on the run time of your app, and how many functions you trace. "
   ]
  },
  {
   "cell_type": "code",
   "execution_count": null,
   "id": "a7b6de29",
   "metadata": {},
   "outputs": [],
   "source": [
    "\"$pin_dir\"/pin -t \"$pin_dir\"/source/tools/ImemROI/obj-intel64/ImemROIThreads.so -- \"$qs_dir\"/src/qs \"$qs_dir\"/Examples/AllAbsorb/allAbsorb.inp"
   ]
  },
  {
   "cell_type": "markdown",
   "id": "5aa6545b",
   "metadata": {},
   "source": [
    "There should be an output file called **roitrace.00.CycleTrackingFunction.bin**. For the next step, we must **gzip** the file. Again, this step might take a significant amount of time depending on the size of the file. "
   ]
  },
  {
   "cell_type": "code",
   "execution_count": null,
   "id": "66b1b0b0",
   "metadata": {},
   "outputs": [],
   "source": [
    "gzip roitrace.00.CycleTrackingFunction.bin"
   ]
  },
  {
   "cell_type": "markdown",
   "id": "80328e0a",
   "metadata": {},
   "source": [
    "### Running gs_patterns"
   ]
  },
  {
   "cell_type": "markdown",
   "id": "f7e3fe6e",
   "metadata": {},
   "source": [
    "This command will likely take the longest out of all. "
   ]
  },
  {
   "cell_type": "code",
   "execution_count": null,
   "id": "9fb2e49e",
   "metadata": {},
   "outputs": [],
   "source": [
    "\"$gspatterns_dir\"/build/gs_patterns roitrace.00.CycleTrackingFunction.bin.gz \"$qs_dir\"/src/qs"
   ]
  },
  {
   "cell_type": "markdown",
   "id": "7b5b9ec5",
   "metadata": {},
   "source": [
    "Once the above command is complete, you can run Spatter with the new **roitrace.00.CycleTrackingFunction.bin.json** file. Please refer to the [Getting Started](http://localhost:8080/notebooks/spatter/notebooks/GettingStarted.ipynb) notebook for more instructions on how to run Spatter. "
   ]
  },
  {
   "cell_type": "markdown",
   "id": "279e3b77",
   "metadata": {},
   "source": [
    "If you'd like to take a closer look at the pattern generated, please refer to the [Graphing Patterns]() notebook. "
   ]
  }
 ],
 "metadata": {
  "kernelspec": {
   "display_name": "Bash",
   "language": "bash",
   "name": "bash"
  },
  "language_info": {
   "codemirror_mode": "shell",
   "file_extension": ".sh",
   "mimetype": "text/x-sh",
   "name": "bash"
  }
 },
 "nbformat": 4,
 "nbformat_minor": 5
}
